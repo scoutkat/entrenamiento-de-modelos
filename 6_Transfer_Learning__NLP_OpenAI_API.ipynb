{
  "nbformat": 4,
  "nbformat_minor": 0,
  "metadata": {
    "colab": {
      "provenance": [],
      "collapsed_sections": [
        "fxgR3AqoTxQP",
        "HX8Q_QXsTts3",
        "BYa0Tjnv74mE",
        "LghPjoil8Njr",
        "Ull0vjyr9Ihl",
        "z5CReMaiYSDt"
      ]
    },
    "kernelspec": {
      "name": "python3",
      "display_name": "Python 3"
    },
    "language_info": {
      "name": "python"
    }
  },
  "cells": [
    {
      "cell_type": "markdown",
      "source": [
        "# Curso Transfer Learning\n",
        "\n",
        "<img src=\"https://yaelmanuel.com/wp-content/uploads/2021/12/platzi-banner-logo-matematicas.png\" width=\"500px\">\n",
        "\n",
        "---"
      ],
      "metadata": {
        "id": "E4OEtECGjKtp"
      }
    },
    {
      "cell_type": "markdown",
      "source": [
        "## Creando nuestro propio Finetuning de un modelo con OpenAI 😎 🌮\n",
        "\n",
        "En este lab aprenderás:\n",
        "\n",
        "* [Open AI API](https://openai.com/api/)\n",
        "* Descargar un dataset, prepararlo, realizar finetuning y guardarlo.\n"
      ],
      "metadata": {
        "id": "p_ny9c9fjbLP"
      }
    },
    {
      "cell_type": "markdown",
      "source": [
        "### 1) Descarga del dataset 🤓\n",
        "\n",
        "Utilizaremos un conjunto de datos de recetas de cocina de Latinoamérica.\n",
        "<br>Para más detalle acá se puede ver el dataset de Hugging Face: [somosnlp/recetas-cocina](https://huggingface.co/datasets/somosnlp/recetas-cocina).\n"
      ],
      "metadata": {
        "id": "fxgR3AqoTxQP"
      }
    },
    {
      "cell_type": "code",
      "source": [
        "import pandas as pd"
      ],
      "metadata": {
        "id": "hfTJasAofm_r"
      },
      "execution_count": null,
      "outputs": []
    },
    {
      "cell_type": "code",
      "source": [
        "url_dataset = \"hf://datasets/somosnlp/recetas-cocina/dataset.csv\"\n",
        "df = pd.read_csv(url_dataset)"
      ],
      "metadata": {
        "id": "LaEUD0PefrjE"
      },
      "execution_count": null,
      "outputs": []
    },
    {
      "cell_type": "code",
      "source": [
        "df.head(3)"
      ],
      "metadata": {
        "colab": {
          "base_uri": "https://localhost:8080/",
          "height": 247
        },
        "id": "7W5jq-2uf9Yv",
        "outputId": "d1d3c38f-2f26-44c2-99cc-130aa713dfdf"
      },
      "execution_count": null,
      "outputs": [
        {
          "output_type": "execute_result",
          "data": {
            "text/plain": [
              "                title                                                url  \\\n",
              "0     Arepas de Queso  https://www.mycolombianrecipes.com/es/arepas-d...   \n",
              "1     Sudado de Pollo  https://www.mycolombianrecipes.com/es/sudado-d...   \n",
              "2  Sancocho Trifásico  https://www.mycolombianrecipes.com/es/sancocho...   \n",
              "\n",
              "                                         ingredients  \\\n",
              "0  1 taza de harina de arepa blanca o amarilla\\r\\...   \n",
              "1  8 muslos de pollo sin la piel\\r\\n1 cucharada d...   \n",
              "2  1 taza de cebolla picada\\r\\n1 pimientón rojo f...   \n",
              "\n",
              "                                               steps  \\\n",
              "0  Combine la harina de maíz, agua caliente, el q...   \n",
              "1  En una olla grande, caliente el aceite vegetal...   \n",
              "2  Coloque la cebolla, el pimientón, el ajo y el ...   \n",
              "\n",
              "                                   uuid  \n",
              "0  86af61e4-e16a-11ed-9591-a96d6180cd25  \n",
              "1  86af61e5-e16a-11ed-abef-a96d6180cd25  \n",
              "2  86af61e6-e16a-11ed-bcf5-a96d6180cd25  "
            ],
            "text/html": [
              "\n",
              "  <div id=\"df-04b13df7-b508-4cfc-a425-a3aec16a6cb8\" class=\"colab-df-container\">\n",
              "    <div>\n",
              "<style scoped>\n",
              "    .dataframe tbody tr th:only-of-type {\n",
              "        vertical-align: middle;\n",
              "    }\n",
              "\n",
              "    .dataframe tbody tr th {\n",
              "        vertical-align: top;\n",
              "    }\n",
              "\n",
              "    .dataframe thead th {\n",
              "        text-align: right;\n",
              "    }\n",
              "</style>\n",
              "<table border=\"1\" class=\"dataframe\">\n",
              "  <thead>\n",
              "    <tr style=\"text-align: right;\">\n",
              "      <th></th>\n",
              "      <th>title</th>\n",
              "      <th>url</th>\n",
              "      <th>ingredients</th>\n",
              "      <th>steps</th>\n",
              "      <th>uuid</th>\n",
              "    </tr>\n",
              "  </thead>\n",
              "  <tbody>\n",
              "    <tr>\n",
              "      <th>0</th>\n",
              "      <td>Arepas de Queso</td>\n",
              "      <td>https://www.mycolombianrecipes.com/es/arepas-d...</td>\n",
              "      <td>1 taza de harina de arepa blanca o amarilla\\r\\...</td>\n",
              "      <td>Combine la harina de maíz, agua caliente, el q...</td>\n",
              "      <td>86af61e4-e16a-11ed-9591-a96d6180cd25</td>\n",
              "    </tr>\n",
              "    <tr>\n",
              "      <th>1</th>\n",
              "      <td>Sudado de Pollo</td>\n",
              "      <td>https://www.mycolombianrecipes.com/es/sudado-d...</td>\n",
              "      <td>8 muslos de pollo sin la piel\\r\\n1 cucharada d...</td>\n",
              "      <td>En una olla grande, caliente el aceite vegetal...</td>\n",
              "      <td>86af61e5-e16a-11ed-abef-a96d6180cd25</td>\n",
              "    </tr>\n",
              "    <tr>\n",
              "      <th>2</th>\n",
              "      <td>Sancocho Trifásico</td>\n",
              "      <td>https://www.mycolombianrecipes.com/es/sancocho...</td>\n",
              "      <td>1 taza de cebolla picada\\r\\n1 pimientón rojo f...</td>\n",
              "      <td>Coloque la cebolla, el pimientón, el ajo y el ...</td>\n",
              "      <td>86af61e6-e16a-11ed-bcf5-a96d6180cd25</td>\n",
              "    </tr>\n",
              "  </tbody>\n",
              "</table>\n",
              "</div>\n",
              "    <div class=\"colab-df-buttons\">\n",
              "\n",
              "  <div class=\"colab-df-container\">\n",
              "    <button class=\"colab-df-convert\" onclick=\"convertToInteractive('df-04b13df7-b508-4cfc-a425-a3aec16a6cb8')\"\n",
              "            title=\"Convert this dataframe to an interactive table.\"\n",
              "            style=\"display:none;\">\n",
              "\n",
              "  <svg xmlns=\"http://www.w3.org/2000/svg\" height=\"24px\" viewBox=\"0 -960 960 960\">\n",
              "    <path d=\"M120-120v-720h720v720H120Zm60-500h600v-160H180v160Zm220 220h160v-160H400v160Zm0 220h160v-160H400v160ZM180-400h160v-160H180v160Zm440 0h160v-160H620v160ZM180-180h160v-160H180v160Zm440 0h160v-160H620v160Z\"/>\n",
              "  </svg>\n",
              "    </button>\n",
              "\n",
              "  <style>\n",
              "    .colab-df-container {\n",
              "      display:flex;\n",
              "      gap: 12px;\n",
              "    }\n",
              "\n",
              "    .colab-df-convert {\n",
              "      background-color: #E8F0FE;\n",
              "      border: none;\n",
              "      border-radius: 50%;\n",
              "      cursor: pointer;\n",
              "      display: none;\n",
              "      fill: #1967D2;\n",
              "      height: 32px;\n",
              "      padding: 0 0 0 0;\n",
              "      width: 32px;\n",
              "    }\n",
              "\n",
              "    .colab-df-convert:hover {\n",
              "      background-color: #E2EBFA;\n",
              "      box-shadow: 0px 1px 2px rgba(60, 64, 67, 0.3), 0px 1px 3px 1px rgba(60, 64, 67, 0.15);\n",
              "      fill: #174EA6;\n",
              "    }\n",
              "\n",
              "    .colab-df-buttons div {\n",
              "      margin-bottom: 4px;\n",
              "    }\n",
              "\n",
              "    [theme=dark] .colab-df-convert {\n",
              "      background-color: #3B4455;\n",
              "      fill: #D2E3FC;\n",
              "    }\n",
              "\n",
              "    [theme=dark] .colab-df-convert:hover {\n",
              "      background-color: #434B5C;\n",
              "      box-shadow: 0px 1px 3px 1px rgba(0, 0, 0, 0.15);\n",
              "      filter: drop-shadow(0px 1px 2px rgba(0, 0, 0, 0.3));\n",
              "      fill: #FFFFFF;\n",
              "    }\n",
              "  </style>\n",
              "\n",
              "    <script>\n",
              "      const buttonEl =\n",
              "        document.querySelector('#df-04b13df7-b508-4cfc-a425-a3aec16a6cb8 button.colab-df-convert');\n",
              "      buttonEl.style.display =\n",
              "        google.colab.kernel.accessAllowed ? 'block' : 'none';\n",
              "\n",
              "      async function convertToInteractive(key) {\n",
              "        const element = document.querySelector('#df-04b13df7-b508-4cfc-a425-a3aec16a6cb8');\n",
              "        const dataTable =\n",
              "          await google.colab.kernel.invokeFunction('convertToInteractive',\n",
              "                                                    [key], {});\n",
              "        if (!dataTable) return;\n",
              "\n",
              "        const docLinkHtml = 'Like what you see? Visit the ' +\n",
              "          '<a target=\"_blank\" href=https://colab.research.google.com/notebooks/data_table.ipynb>data table notebook</a>'\n",
              "          + ' to learn more about interactive tables.';\n",
              "        element.innerHTML = '';\n",
              "        dataTable['output_type'] = 'display_data';\n",
              "        await google.colab.output.renderOutput(dataTable, element);\n",
              "        const docLink = document.createElement('div');\n",
              "        docLink.innerHTML = docLinkHtml;\n",
              "        element.appendChild(docLink);\n",
              "      }\n",
              "    </script>\n",
              "  </div>\n",
              "\n",
              "\n",
              "<div id=\"df-163e2b1a-c825-44ee-8282-528fbec4cb77\">\n",
              "  <button class=\"colab-df-quickchart\" onclick=\"quickchart('df-163e2b1a-c825-44ee-8282-528fbec4cb77')\"\n",
              "            title=\"Suggest charts\"\n",
              "            style=\"display:none;\">\n",
              "\n",
              "<svg xmlns=\"http://www.w3.org/2000/svg\" height=\"24px\"viewBox=\"0 0 24 24\"\n",
              "     width=\"24px\">\n",
              "    <g>\n",
              "        <path d=\"M19 3H5c-1.1 0-2 .9-2 2v14c0 1.1.9 2 2 2h14c1.1 0 2-.9 2-2V5c0-1.1-.9-2-2-2zM9 17H7v-7h2v7zm4 0h-2V7h2v10zm4 0h-2v-4h2v4z\"/>\n",
              "    </g>\n",
              "</svg>\n",
              "  </button>\n",
              "\n",
              "<style>\n",
              "  .colab-df-quickchart {\n",
              "      --bg-color: #E8F0FE;\n",
              "      --fill-color: #1967D2;\n",
              "      --hover-bg-color: #E2EBFA;\n",
              "      --hover-fill-color: #174EA6;\n",
              "      --disabled-fill-color: #AAA;\n",
              "      --disabled-bg-color: #DDD;\n",
              "  }\n",
              "\n",
              "  [theme=dark] .colab-df-quickchart {\n",
              "      --bg-color: #3B4455;\n",
              "      --fill-color: #D2E3FC;\n",
              "      --hover-bg-color: #434B5C;\n",
              "      --hover-fill-color: #FFFFFF;\n",
              "      --disabled-bg-color: #3B4455;\n",
              "      --disabled-fill-color: #666;\n",
              "  }\n",
              "\n",
              "  .colab-df-quickchart {\n",
              "    background-color: var(--bg-color);\n",
              "    border: none;\n",
              "    border-radius: 50%;\n",
              "    cursor: pointer;\n",
              "    display: none;\n",
              "    fill: var(--fill-color);\n",
              "    height: 32px;\n",
              "    padding: 0;\n",
              "    width: 32px;\n",
              "  }\n",
              "\n",
              "  .colab-df-quickchart:hover {\n",
              "    background-color: var(--hover-bg-color);\n",
              "    box-shadow: 0 1px 2px rgba(60, 64, 67, 0.3), 0 1px 3px 1px rgba(60, 64, 67, 0.15);\n",
              "    fill: var(--button-hover-fill-color);\n",
              "  }\n",
              "\n",
              "  .colab-df-quickchart-complete:disabled,\n",
              "  .colab-df-quickchart-complete:disabled:hover {\n",
              "    background-color: var(--disabled-bg-color);\n",
              "    fill: var(--disabled-fill-color);\n",
              "    box-shadow: none;\n",
              "  }\n",
              "\n",
              "  .colab-df-spinner {\n",
              "    border: 2px solid var(--fill-color);\n",
              "    border-color: transparent;\n",
              "    border-bottom-color: var(--fill-color);\n",
              "    animation:\n",
              "      spin 1s steps(1) infinite;\n",
              "  }\n",
              "\n",
              "  @keyframes spin {\n",
              "    0% {\n",
              "      border-color: transparent;\n",
              "      border-bottom-color: var(--fill-color);\n",
              "      border-left-color: var(--fill-color);\n",
              "    }\n",
              "    20% {\n",
              "      border-color: transparent;\n",
              "      border-left-color: var(--fill-color);\n",
              "      border-top-color: var(--fill-color);\n",
              "    }\n",
              "    30% {\n",
              "      border-color: transparent;\n",
              "      border-left-color: var(--fill-color);\n",
              "      border-top-color: var(--fill-color);\n",
              "      border-right-color: var(--fill-color);\n",
              "    }\n",
              "    40% {\n",
              "      border-color: transparent;\n",
              "      border-right-color: var(--fill-color);\n",
              "      border-top-color: var(--fill-color);\n",
              "    }\n",
              "    60% {\n",
              "      border-color: transparent;\n",
              "      border-right-color: var(--fill-color);\n",
              "    }\n",
              "    80% {\n",
              "      border-color: transparent;\n",
              "      border-right-color: var(--fill-color);\n",
              "      border-bottom-color: var(--fill-color);\n",
              "    }\n",
              "    90% {\n",
              "      border-color: transparent;\n",
              "      border-bottom-color: var(--fill-color);\n",
              "    }\n",
              "  }\n",
              "</style>\n",
              "\n",
              "  <script>\n",
              "    async function quickchart(key) {\n",
              "      const quickchartButtonEl =\n",
              "        document.querySelector('#' + key + ' button');\n",
              "      quickchartButtonEl.disabled = true;  // To prevent multiple clicks.\n",
              "      quickchartButtonEl.classList.add('colab-df-spinner');\n",
              "      try {\n",
              "        const charts = await google.colab.kernel.invokeFunction(\n",
              "            'suggestCharts', [key], {});\n",
              "      } catch (error) {\n",
              "        console.error('Error during call to suggestCharts:', error);\n",
              "      }\n",
              "      quickchartButtonEl.classList.remove('colab-df-spinner');\n",
              "      quickchartButtonEl.classList.add('colab-df-quickchart-complete');\n",
              "    }\n",
              "    (() => {\n",
              "      let quickchartButtonEl =\n",
              "        document.querySelector('#df-163e2b1a-c825-44ee-8282-528fbec4cb77 button');\n",
              "      quickchartButtonEl.style.display =\n",
              "        google.colab.kernel.accessAllowed ? 'block' : 'none';\n",
              "    })();\n",
              "  </script>\n",
              "</div>\n",
              "\n",
              "    </div>\n",
              "  </div>\n"
            ],
            "application/vnd.google.colaboratory.intrinsic+json": {
              "type": "dataframe",
              "variable_name": "df",
              "summary": "{\n  \"name\": \"df\",\n  \"rows\": 28238,\n  \"fields\": [\n    {\n      \"column\": \"title\",\n      \"properties\": {\n        \"dtype\": \"string\",\n        \"num_unique_values\": 18921,\n        \"samples\": [\n          \"Tofu de garbanzos casero\",\n          \"Bolitas de carne picada con queso\",\n          \"Receta F\\u00c1CIL Con Patatas y Verduras\"\n        ],\n        \"semantic_type\": \"\",\n        \"description\": \"\"\n      }\n    },\n    {\n      \"column\": \"url\",\n      \"properties\": {\n        \"dtype\": \"string\",\n        \"num_unique_values\": 25015,\n        \"samples\": [\n          \"https://www.recetas.com/receta-de-Gratin-de-papas-con-hongos-secos-6413.html\",\n          \"https://www.recetasgratis.net/receta-de-brownie-crudivegano-70065.html\",\n          \"https://www.recetasgratis.net/receta-de-pescado-a-la-onubense-51212.html\"\n        ],\n        \"semantic_type\": \"\",\n        \"description\": \"\"\n      }\n    },\n    {\n      \"column\": \"ingredients\",\n      \"properties\": {\n        \"dtype\": \"string\",\n        \"num_unique_values\": 24981,\n        \"samples\": [\n          \"Ingredientes 1 disco de masa para tarta 3/4 taza de agua 2 yemas Ralladura de 1 1 cda de jugo de lim\\u00f3n 150 gr. de az\\u00facar 20 gr. de almid\\u00f3n de ma\\u00edz 20 gr. de manteca Para el merengue: 120 gr. de az\\u00facar 2 claras 1 disco de masa para tarta3/4 taza de agua2 yemasRalladura de 1 lim\\u00f3n 1 cda de jugo de lim\\u00f3n150 gr. de az\\u00facar20 gr. de almid\\u00f3n de ma\\u00edz20 gr. de manteca120 gr. de az\\u00facar2 claras \",\n          \"1 cda. de aceite vegetal1 cdta. de achiote1 tallo de cebolla larga picado1 diente de ajo machacado1 tomate chonto mediano, pelado, picado y sin semillas1 taza de lecheSal, pimienta comino molido6 papas peladas y cortadas en 8 porciones \",\n          \"250 gramos de harina de trigo tamizada 20 gramos de mantequilla 3 gramos de levadura seca de panadero 1 huevo 125 ml de leche tibia 15 gramos de az\\u00facar 1/2 cucharadita de sal 10 salchichas Frankfurt 1 huevo para pintar 1 pu\\u00f1ado de semillas 1 trozo de mantequilla para pintar una vez horneados\"\n        ],\n        \"semantic_type\": \"\",\n        \"description\": \"\"\n      }\n    },\n    {\n      \"column\": \"steps\",\n      \"properties\": {\n        \"dtype\": \"string\",\n        \"num_unique_values\": 24996,\n        \"samples\": [\n          \"1 Para elaborar estos incre\\u00edbles perritos calientes debes alistar todos los ingredientes, puedes utilizar salchichas tipo frankfurt o cualquier de tu preferencia, vigila que sean del tama\\u00f1o del pan. 2 Picar la cebolla en cuadros peque\\u00f1os y agregarle agua muy caliente. Esto ayudar\\u00e1 a que la cebolla no est\\u00e9 tan picante. 3 Lavar y picar el tomate en cuadros del mismo tama\\u00f1o que la cebolla. Luego, escurrir la cebolla y mezclar con el tomate, agregar sal y pimienta al gusto. 4 En una sart\\u00e9n con un poco de agua colocamos las salchichas y las cocinamos durante 5 minutos a fuego medio. 5 Colocar las salchichas en el pan y cubrir con el picadillo de cebolla y tomate. 6 Cubrir con las papas tipo cerilla y agregar las salsas al gusto. Esto dar\\u00e1 un toque delicioso a tus hot dogs. Si no encuentras este tipo de patatas, no te preocupes, puedes usar cualquier tipo de patata frita de bolsa, lo \\u00fanico que tienes que hacer es triturarlas bien. 7 Si te gust\\u00f3 la receta de los perritos calientes o tienes alguna duda no dudes en dejar tus comentarios.\",\n          \"1 Cocina los frijoles en abundante agua hasta que est\\u00e9n blandos. Cuando est\\u00e9n listos, retira todo el caldo que puedas y res\\u00e9rvalo para m\\u00e1s adelante; debes dejar el caldo suficiente para moler los frijoles sin que queden aguados. 2 Tritura los frijoles con un batidor de mano o un mortero en su defecto una vez que est\\u00e9n templados o fr\\u00edos. Si retiraste demasiado caldo, siempre puedes ir a\\u00f1adiendo poco a poco. El resultado debe ser unos frijoles molidos ni demasiado l\\u00edquidos ni muy espesos. 3 Coloca la manteca en una olla de barro suficientemente grande y mu\\u00e9vela con una cuchara para lograr que se funda m\\u00e1s r\\u00e1pido. 4 Cuando la manteca est\\u00e9 muy caliente, adiciona el chorizo y desmen\\u00fazalo en la olla con la misma cuchara. Deja que se cocine durante 4 minutos, moviendo para evitar que se queme ni pegue y los frijoles puercos estilo Sinaloa con sardina queden perfectos. 5 Pasado el tiempo, a\\u00f1ade el jam\\u00f3n, el pur\\u00e9 de tomate y la sardina, desmenuza y sigue cocinando unos 6 minutos m\\u00e1s. Luego, puedes triturar toda la preparaci\\u00f3n o dejarla as\\u00ed, como prefieras. Truco: Si decidiste triturar, a\\u00f1ade un poco de frijol para batir mejor. 6 Agrega los frijoles e int\\u00e9gralos con la preparaci\\u00f3n para que se mezcle todo bien. 7 Cuando los frijoles puercos con sardina empiecen a hervir, a\\u00f1ade el queso rallado y sigue moviendo para lograr que se funda r\\u00e1pidamente. 8 Por \\u00faltimo, incorpora los chiles y las aceitunas, y sigue moviendo. Es muy importante no dejar de dar vueltas a la preparaci\\u00f3n para evitar que se pegue o queme. Deja cocinar unos 3 minutos m\\u00e1s. 9 \\u00a1Listo! Ya puedes servir y degustar estos deliciosos frijoles puercos estilo Sinaloa con sardinas. Y si lo deseas, puedes dejar que se enfr\\u00eden y disfrutarlos al d\\u00eda siguiente recalentados, \\u00a1ya que quedan a\\u00fan m\\u00e1s deliciosos! Se pueden servir con tortillas de ma\\u00edz y arroz blanco. \\u00a1Buen provecho!\",\n          \"1 El primer paso para realizar la receta de lomo strogonoff es prealistar los ingredientes. Si lo prefieres, en lugar de vino puedes utilizar vodka. 2 Lo primero que vamos a realizar es la salsa de champi\\u00f1ones. Para hacerla, llevamos una olla a fuego medio y adicionamos un poco de aceite, agregamos la cebolla blanca en cuadros y dejamos saltear. 3 Una vez que la cebolla tome un color transparente, agrega los champi\\u00f1ones, sal, pimienta negra y pasta de ajo al gusto. 4 Para que los champi\\u00f1ones se doren, adiciona la mantequilla y deja sofre\\u00edr. 5 Cuando est\\u00e9n dorados los champi\\u00f1ones, agrega la harina de trigo y forma una pasta con la mantequilla, la cebolla y champi\\u00f1ones, esto es lo que le va a a dar espesor a nuestra salsa base strogonoff. 6 Adiciona el fondo o caldo de carne y deja que este se cocine. 7 Agrega el vino tinto, la paprika y la mostaza y mezcla muy bien con la salsa para el lomo. 8 Una vez que la salsa haya espesado, baja el fuego lo m\\u00e1s lento que puedas y a\\u00f1ade la crema de leche y el perejil fresco; mezcla muy bien los ingredientes de nuestra receta y deja conservar. 9 Vamos a cocinar los medallones de lomo. La receta original dice que debes servir y saltear el lomo en cuadros medianos, pero yo quise realizarlo un poco m\\u00e1s personalizado y dar por comensal dos medallones. De manera que, este paso es al gusto del cocinero, cualquiera de las dos formas es totalmente v\\u00e1lida. Lleva una sart\\u00e9n a fuego medio, adiciona un poco de aceite y, una vez caliente, agrega los medallones de lomo con sal y pimienta al gusto. 10 Dale vuelta a los medallones, recuerda que puedes consumirlos en el t\\u00e9rmino de cocci\\u00f3n que desees. En este sentido, debes saber que a menos vueltas m\\u00e1s jugosa quedar\\u00e1 la carne por dentro. Ten presente que con cada vuelta la carne se va deshidratando y, por tanto, perdiendo sus jugos. Es importante que tengas en cuenta estos peque\\u00f1os tips de cocina que te damos a la hora de cocinar para obtener una carne m\\u00e1s jugosa. 11 Rectificamos de sabor la salsa, si deseas puedes a\\u00f1adir m\\u00e1s sal, pimienta o cualquier otro ingrediente que desees y consideres le hace falta. Una buena salsa se nota por su brillo y espesor, siempre debes probar y rectificar para obtener el resultado deseado. 12 Sirve cada uno de los medallones salteados en el t\\u00e9rmino de cocci\\u00f3n que deseas. 13 Ba\\u00f1a los medallones de lomo en la salsa strogonoff y espolvorea con un poco de perejil fresco encima. Es ideal que acompa\\u00f1es el lomo strogonoff con arroz blanco. Si deseas m\\u00e1s recetas de carne y tienes alg\\u00fan comentario o inquietud, escr\\u00edbenos. \\u00a1Disfruta!\"\n        ],\n        \"semantic_type\": \"\",\n        \"description\": \"\"\n      }\n    },\n    {\n      \"column\": \"uuid\",\n      \"properties\": {\n        \"dtype\": \"string\",\n        \"num_unique_values\": 26952,\n        \"samples\": [\n          \"3692e61c-94ee-4398-82cc-a5f522a875f3\",\n          \"d2982bb3-78db-4b39-a35a-b0bb3d36f65d\",\n          \"8523a9a8-4a33-4204-af71-bdef3ad87848\"\n        ],\n        \"semantic_type\": \"\",\n        \"description\": \"\"\n      }\n    }\n  ]\n}"
            }
          },
          "metadata": {},
          "execution_count": 6
        }
      ]
    },
    {
      "cell_type": "markdown",
      "source": [
        "### 2) Preparación de la data 👌"
      ],
      "metadata": {
        "id": "HX8Q_QXsTts3"
      }
    },
    {
      "cell_type": "markdown",
      "source": [
        "#### 2.1) Instalamos las dependencias 🙌"
      ],
      "metadata": {
        "id": "BYa0Tjnv74mE"
      }
    },
    {
      "cell_type": "code",
      "source": [
        "!pip install --upgrade openai"
      ],
      "metadata": {
        "colab": {
          "base_uri": "https://localhost:8080/"
        },
        "id": "OzFTvuotz1LV",
        "outputId": "0d03aafc-16aa-4737-9d9f-43aff11855b6"
      },
      "execution_count": null,
      "outputs": [
        {
          "output_type": "stream",
          "name": "stdout",
          "text": [
            "Requirement already satisfied: openai in /usr/local/lib/python3.10/dist-packages (1.59.7)\n",
            "Requirement already satisfied: anyio<5,>=3.5.0 in /usr/local/lib/python3.10/dist-packages (from openai) (3.7.1)\n",
            "Requirement already satisfied: distro<2,>=1.7.0 in /usr/local/lib/python3.10/dist-packages (from openai) (1.9.0)\n",
            "Requirement already satisfied: httpx<1,>=0.23.0 in /usr/local/lib/python3.10/dist-packages (from openai) (0.28.1)\n",
            "Requirement already satisfied: jiter<1,>=0.4.0 in /usr/local/lib/python3.10/dist-packages (from openai) (0.8.2)\n",
            "Requirement already satisfied: pydantic<3,>=1.9.0 in /usr/local/lib/python3.10/dist-packages (from openai) (2.10.3)\n",
            "Requirement already satisfied: sniffio in /usr/local/lib/python3.10/dist-packages (from openai) (1.3.1)\n",
            "Requirement already satisfied: tqdm>4 in /usr/local/lib/python3.10/dist-packages (from openai) (4.67.1)\n",
            "Requirement already satisfied: typing-extensions<5,>=4.11 in /usr/local/lib/python3.10/dist-packages (from openai) (4.12.2)\n",
            "Requirement already satisfied: idna>=2.8 in /usr/local/lib/python3.10/dist-packages (from anyio<5,>=3.5.0->openai) (3.10)\n",
            "Requirement already satisfied: exceptiongroup in /usr/local/lib/python3.10/dist-packages (from anyio<5,>=3.5.0->openai) (1.2.2)\n",
            "Requirement already satisfied: certifi in /usr/local/lib/python3.10/dist-packages (from httpx<1,>=0.23.0->openai) (2024.12.14)\n",
            "Requirement already satisfied: httpcore==1.* in /usr/local/lib/python3.10/dist-packages (from httpx<1,>=0.23.0->openai) (1.0.7)\n",
            "Requirement already satisfied: h11<0.15,>=0.13 in /usr/local/lib/python3.10/dist-packages (from httpcore==1.*->httpx<1,>=0.23.0->openai) (0.14.0)\n",
            "Requirement already satisfied: annotated-types>=0.6.0 in /usr/local/lib/python3.10/dist-packages (from pydantic<3,>=1.9.0->openai) (0.7.0)\n",
            "Requirement already satisfied: pydantic-core==2.27.1 in /usr/local/lib/python3.10/dist-packages (from pydantic<3,>=1.9.0->openai) (2.27.1)\n"
          ]
        }
      ]
    },
    {
      "cell_type": "code",
      "source": [
        "!pip install python-dotenv"
      ],
      "metadata": {
        "colab": {
          "base_uri": "https://localhost:8080/"
        },
        "id": "uKKhNr-IzCTd",
        "outputId": "853a0423-dd22-47b3-8e0d-72e93fb299f0"
      },
      "execution_count": null,
      "outputs": [
        {
          "output_type": "stream",
          "name": "stdout",
          "text": [
            "Requirement already satisfied: python-dotenv in /usr/local/lib/python3.10/dist-packages (1.0.1)\n"
          ]
        }
      ]
    },
    {
      "cell_type": "code",
      "source": [
        "import os\n",
        "from dotenv import load_dotenv\n",
        "import json\n",
        "\n",
        "import pandas as pd\n",
        "\n",
        "from openai import OpenAI"
      ],
      "metadata": {
        "id": "tew6jymsk8MM"
      },
      "execution_count": null,
      "outputs": []
    },
    {
      "cell_type": "markdown",
      "source": [
        "#### 2.2) Acondicionar columnas 👀"
      ],
      "metadata": {
        "id": "LghPjoil8Njr"
      }
    },
    {
      "cell_type": "markdown",
      "source": [
        "Basados en la [documentación oficial de OpenAI](https://platform.openai.com/docs/guides/fine-tuning#example-format) debemos darle una estructura recomendada a nuestra data.\n",
        "\n",
        "Algo así como: Lo que pregunta el usuario + Lo que responde el modelo.\n",
        "\n",
        "`{\"user\": \"Receta para arepas:\", \"assistant\": \"Ingredientes: 1 taza de harina de arepa blanca... Instrucciones: Mezcla la harina, el agua y la sal...\"}`"
      ],
      "metadata": {
        "id": "LKUUpcDIgYLW"
      }
    },
    {
      "cell_type": "markdown",
      "source": [
        "Tener cuidado con agregar a \"\\n\" y \"\\r\\n\" las columnas \"ingredients\" y \"steps\" para evitar problemas con las estructura del JSONL."
      ],
      "metadata": {
        "id": "LAwFHoluqhQO"
      }
    },
    {
      "cell_type": "code",
      "source": [
        "# Reemplazar \"\\r\\n\" y \"\\n\" por \" .\"\n",
        "df = df.replace(to_replace={r'\\r\\n': ' .', r'\\n': ' .'}, regex=True)"
      ],
      "metadata": {
        "id": "qo86NX5wqyfW"
      },
      "execution_count": null,
      "outputs": []
    },
    {
      "cell_type": "code",
      "source": [
        "df.head(3)"
      ],
      "metadata": {
        "colab": {
          "base_uri": "https://localhost:8080/",
          "height": 247
        },
        "id": "guZTBShiq6DA",
        "outputId": "5b17b856-60c8-487e-8a02-1d431584d07d"
      },
      "execution_count": null,
      "outputs": [
        {
          "output_type": "execute_result",
          "data": {
            "text/plain": [
              "                title                                                url  \\\n",
              "0     Arepas de Queso  https://www.mycolombianrecipes.com/es/arepas-d...   \n",
              "1     Sudado de Pollo  https://www.mycolombianrecipes.com/es/sudado-d...   \n",
              "2  Sancocho Trifásico  https://www.mycolombianrecipes.com/es/sancocho...   \n",
              "\n",
              "                                         ingredients  \\\n",
              "0  1 taza de harina de arepa blanca o amarilla .1...   \n",
              "1  8 muslos de pollo sin la piel .1 cucharada de ...   \n",
              "2  1 taza de cebolla picada .1 pimientón rojo fin...   \n",
              "\n",
              "                                               steps  \\\n",
              "0  Combine la harina de maíz, agua caliente, el q...   \n",
              "1  En una olla grande, caliente el aceite vegetal...   \n",
              "2  Coloque la cebolla, el pimientón, el ajo y el ...   \n",
              "\n",
              "                                   uuid  \n",
              "0  86af61e4-e16a-11ed-9591-a96d6180cd25  \n",
              "1  86af61e5-e16a-11ed-abef-a96d6180cd25  \n",
              "2  86af61e6-e16a-11ed-bcf5-a96d6180cd25  "
            ],
            "text/html": [
              "\n",
              "  <div id=\"df-a847e1a8-ad84-4b61-ba03-bb960b9bc2ab\" class=\"colab-df-container\">\n",
              "    <div>\n",
              "<style scoped>\n",
              "    .dataframe tbody tr th:only-of-type {\n",
              "        vertical-align: middle;\n",
              "    }\n",
              "\n",
              "    .dataframe tbody tr th {\n",
              "        vertical-align: top;\n",
              "    }\n",
              "\n",
              "    .dataframe thead th {\n",
              "        text-align: right;\n",
              "    }\n",
              "</style>\n",
              "<table border=\"1\" class=\"dataframe\">\n",
              "  <thead>\n",
              "    <tr style=\"text-align: right;\">\n",
              "      <th></th>\n",
              "      <th>title</th>\n",
              "      <th>url</th>\n",
              "      <th>ingredients</th>\n",
              "      <th>steps</th>\n",
              "      <th>uuid</th>\n",
              "    </tr>\n",
              "  </thead>\n",
              "  <tbody>\n",
              "    <tr>\n",
              "      <th>0</th>\n",
              "      <td>Arepas de Queso</td>\n",
              "      <td>https://www.mycolombianrecipes.com/es/arepas-d...</td>\n",
              "      <td>1 taza de harina de arepa blanca o amarilla .1...</td>\n",
              "      <td>Combine la harina de maíz, agua caliente, el q...</td>\n",
              "      <td>86af61e4-e16a-11ed-9591-a96d6180cd25</td>\n",
              "    </tr>\n",
              "    <tr>\n",
              "      <th>1</th>\n",
              "      <td>Sudado de Pollo</td>\n",
              "      <td>https://www.mycolombianrecipes.com/es/sudado-d...</td>\n",
              "      <td>8 muslos de pollo sin la piel .1 cucharada de ...</td>\n",
              "      <td>En una olla grande, caliente el aceite vegetal...</td>\n",
              "      <td>86af61e5-e16a-11ed-abef-a96d6180cd25</td>\n",
              "    </tr>\n",
              "    <tr>\n",
              "      <th>2</th>\n",
              "      <td>Sancocho Trifásico</td>\n",
              "      <td>https://www.mycolombianrecipes.com/es/sancocho...</td>\n",
              "      <td>1 taza de cebolla picada .1 pimientón rojo fin...</td>\n",
              "      <td>Coloque la cebolla, el pimientón, el ajo y el ...</td>\n",
              "      <td>86af61e6-e16a-11ed-bcf5-a96d6180cd25</td>\n",
              "    </tr>\n",
              "  </tbody>\n",
              "</table>\n",
              "</div>\n",
              "    <div class=\"colab-df-buttons\">\n",
              "\n",
              "  <div class=\"colab-df-container\">\n",
              "    <button class=\"colab-df-convert\" onclick=\"convertToInteractive('df-a847e1a8-ad84-4b61-ba03-bb960b9bc2ab')\"\n",
              "            title=\"Convert this dataframe to an interactive table.\"\n",
              "            style=\"display:none;\">\n",
              "\n",
              "  <svg xmlns=\"http://www.w3.org/2000/svg\" height=\"24px\" viewBox=\"0 -960 960 960\">\n",
              "    <path d=\"M120-120v-720h720v720H120Zm60-500h600v-160H180v160Zm220 220h160v-160H400v160Zm0 220h160v-160H400v160ZM180-400h160v-160H180v160Zm440 0h160v-160H620v160ZM180-180h160v-160H180v160Zm440 0h160v-160H620v160Z\"/>\n",
              "  </svg>\n",
              "    </button>\n",
              "\n",
              "  <style>\n",
              "    .colab-df-container {\n",
              "      display:flex;\n",
              "      gap: 12px;\n",
              "    }\n",
              "\n",
              "    .colab-df-convert {\n",
              "      background-color: #E8F0FE;\n",
              "      border: none;\n",
              "      border-radius: 50%;\n",
              "      cursor: pointer;\n",
              "      display: none;\n",
              "      fill: #1967D2;\n",
              "      height: 32px;\n",
              "      padding: 0 0 0 0;\n",
              "      width: 32px;\n",
              "    }\n",
              "\n",
              "    .colab-df-convert:hover {\n",
              "      background-color: #E2EBFA;\n",
              "      box-shadow: 0px 1px 2px rgba(60, 64, 67, 0.3), 0px 1px 3px 1px rgba(60, 64, 67, 0.15);\n",
              "      fill: #174EA6;\n",
              "    }\n",
              "\n",
              "    .colab-df-buttons div {\n",
              "      margin-bottom: 4px;\n",
              "    }\n",
              "\n",
              "    [theme=dark] .colab-df-convert {\n",
              "      background-color: #3B4455;\n",
              "      fill: #D2E3FC;\n",
              "    }\n",
              "\n",
              "    [theme=dark] .colab-df-convert:hover {\n",
              "      background-color: #434B5C;\n",
              "      box-shadow: 0px 1px 3px 1px rgba(0, 0, 0, 0.15);\n",
              "      filter: drop-shadow(0px 1px 2px rgba(0, 0, 0, 0.3));\n",
              "      fill: #FFFFFF;\n",
              "    }\n",
              "  </style>\n",
              "\n",
              "    <script>\n",
              "      const buttonEl =\n",
              "        document.querySelector('#df-a847e1a8-ad84-4b61-ba03-bb960b9bc2ab button.colab-df-convert');\n",
              "      buttonEl.style.display =\n",
              "        google.colab.kernel.accessAllowed ? 'block' : 'none';\n",
              "\n",
              "      async function convertToInteractive(key) {\n",
              "        const element = document.querySelector('#df-a847e1a8-ad84-4b61-ba03-bb960b9bc2ab');\n",
              "        const dataTable =\n",
              "          await google.colab.kernel.invokeFunction('convertToInteractive',\n",
              "                                                    [key], {});\n",
              "        if (!dataTable) return;\n",
              "\n",
              "        const docLinkHtml = 'Like what you see? Visit the ' +\n",
              "          '<a target=\"_blank\" href=https://colab.research.google.com/notebooks/data_table.ipynb>data table notebook</a>'\n",
              "          + ' to learn more about interactive tables.';\n",
              "        element.innerHTML = '';\n",
              "        dataTable['output_type'] = 'display_data';\n",
              "        await google.colab.output.renderOutput(dataTable, element);\n",
              "        const docLink = document.createElement('div');\n",
              "        docLink.innerHTML = docLinkHtml;\n",
              "        element.appendChild(docLink);\n",
              "      }\n",
              "    </script>\n",
              "  </div>\n",
              "\n",
              "\n",
              "<div id=\"df-838d6b58-0b8f-4d69-8eaf-b56cd51274e5\">\n",
              "  <button class=\"colab-df-quickchart\" onclick=\"quickchart('df-838d6b58-0b8f-4d69-8eaf-b56cd51274e5')\"\n",
              "            title=\"Suggest charts\"\n",
              "            style=\"display:none;\">\n",
              "\n",
              "<svg xmlns=\"http://www.w3.org/2000/svg\" height=\"24px\"viewBox=\"0 0 24 24\"\n",
              "     width=\"24px\">\n",
              "    <g>\n",
              "        <path d=\"M19 3H5c-1.1 0-2 .9-2 2v14c0 1.1.9 2 2 2h14c1.1 0 2-.9 2-2V5c0-1.1-.9-2-2-2zM9 17H7v-7h2v7zm4 0h-2V7h2v10zm4 0h-2v-4h2v4z\"/>\n",
              "    </g>\n",
              "</svg>\n",
              "  </button>\n",
              "\n",
              "<style>\n",
              "  .colab-df-quickchart {\n",
              "      --bg-color: #E8F0FE;\n",
              "      --fill-color: #1967D2;\n",
              "      --hover-bg-color: #E2EBFA;\n",
              "      --hover-fill-color: #174EA6;\n",
              "      --disabled-fill-color: #AAA;\n",
              "      --disabled-bg-color: #DDD;\n",
              "  }\n",
              "\n",
              "  [theme=dark] .colab-df-quickchart {\n",
              "      --bg-color: #3B4455;\n",
              "      --fill-color: #D2E3FC;\n",
              "      --hover-bg-color: #434B5C;\n",
              "      --hover-fill-color: #FFFFFF;\n",
              "      --disabled-bg-color: #3B4455;\n",
              "      --disabled-fill-color: #666;\n",
              "  }\n",
              "\n",
              "  .colab-df-quickchart {\n",
              "    background-color: var(--bg-color);\n",
              "    border: none;\n",
              "    border-radius: 50%;\n",
              "    cursor: pointer;\n",
              "    display: none;\n",
              "    fill: var(--fill-color);\n",
              "    height: 32px;\n",
              "    padding: 0;\n",
              "    width: 32px;\n",
              "  }\n",
              "\n",
              "  .colab-df-quickchart:hover {\n",
              "    background-color: var(--hover-bg-color);\n",
              "    box-shadow: 0 1px 2px rgba(60, 64, 67, 0.3), 0 1px 3px 1px rgba(60, 64, 67, 0.15);\n",
              "    fill: var(--button-hover-fill-color);\n",
              "  }\n",
              "\n",
              "  .colab-df-quickchart-complete:disabled,\n",
              "  .colab-df-quickchart-complete:disabled:hover {\n",
              "    background-color: var(--disabled-bg-color);\n",
              "    fill: var(--disabled-fill-color);\n",
              "    box-shadow: none;\n",
              "  }\n",
              "\n",
              "  .colab-df-spinner {\n",
              "    border: 2px solid var(--fill-color);\n",
              "    border-color: transparent;\n",
              "    border-bottom-color: var(--fill-color);\n",
              "    animation:\n",
              "      spin 1s steps(1) infinite;\n",
              "  }\n",
              "\n",
              "  @keyframes spin {\n",
              "    0% {\n",
              "      border-color: transparent;\n",
              "      border-bottom-color: var(--fill-color);\n",
              "      border-left-color: var(--fill-color);\n",
              "    }\n",
              "    20% {\n",
              "      border-color: transparent;\n",
              "      border-left-color: var(--fill-color);\n",
              "      border-top-color: var(--fill-color);\n",
              "    }\n",
              "    30% {\n",
              "      border-color: transparent;\n",
              "      border-left-color: var(--fill-color);\n",
              "      border-top-color: var(--fill-color);\n",
              "      border-right-color: var(--fill-color);\n",
              "    }\n",
              "    40% {\n",
              "      border-color: transparent;\n",
              "      border-right-color: var(--fill-color);\n",
              "      border-top-color: var(--fill-color);\n",
              "    }\n",
              "    60% {\n",
              "      border-color: transparent;\n",
              "      border-right-color: var(--fill-color);\n",
              "    }\n",
              "    80% {\n",
              "      border-color: transparent;\n",
              "      border-right-color: var(--fill-color);\n",
              "      border-bottom-color: var(--fill-color);\n",
              "    }\n",
              "    90% {\n",
              "      border-color: transparent;\n",
              "      border-bottom-color: var(--fill-color);\n",
              "    }\n",
              "  }\n",
              "</style>\n",
              "\n",
              "  <script>\n",
              "    async function quickchart(key) {\n",
              "      const quickchartButtonEl =\n",
              "        document.querySelector('#' + key + ' button');\n",
              "      quickchartButtonEl.disabled = true;  // To prevent multiple clicks.\n",
              "      quickchartButtonEl.classList.add('colab-df-spinner');\n",
              "      try {\n",
              "        const charts = await google.colab.kernel.invokeFunction(\n",
              "            'suggestCharts', [key], {});\n",
              "      } catch (error) {\n",
              "        console.error('Error during call to suggestCharts:', error);\n",
              "      }\n",
              "      quickchartButtonEl.classList.remove('colab-df-spinner');\n",
              "      quickchartButtonEl.classList.add('colab-df-quickchart-complete');\n",
              "    }\n",
              "    (() => {\n",
              "      let quickchartButtonEl =\n",
              "        document.querySelector('#df-838d6b58-0b8f-4d69-8eaf-b56cd51274e5 button');\n",
              "      quickchartButtonEl.style.display =\n",
              "        google.colab.kernel.accessAllowed ? 'block' : 'none';\n",
              "    })();\n",
              "  </script>\n",
              "</div>\n",
              "\n",
              "    </div>\n",
              "  </div>\n"
            ],
            "application/vnd.google.colaboratory.intrinsic+json": {
              "type": "dataframe",
              "variable_name": "df",
              "summary": "{\n  \"name\": \"df\",\n  \"rows\": 28238,\n  \"fields\": [\n    {\n      \"column\": \"title\",\n      \"properties\": {\n        \"dtype\": \"string\",\n        \"num_unique_values\": 18921,\n        \"samples\": [\n          \"Tofu de garbanzos casero\",\n          \"Bolitas de carne picada con queso\",\n          \"Receta F\\u00c1CIL Con Patatas y Verduras\"\n        ],\n        \"semantic_type\": \"\",\n        \"description\": \"\"\n      }\n    },\n    {\n      \"column\": \"url\",\n      \"properties\": {\n        \"dtype\": \"string\",\n        \"num_unique_values\": 25015,\n        \"samples\": [\n          \"https://www.recetas.com/receta-de-Gratin-de-papas-con-hongos-secos-6413.html\",\n          \"https://www.recetasgratis.net/receta-de-brownie-crudivegano-70065.html\",\n          \"https://www.recetasgratis.net/receta-de-pescado-a-la-onubense-51212.html\"\n        ],\n        \"semantic_type\": \"\",\n        \"description\": \"\"\n      }\n    },\n    {\n      \"column\": \"ingredients\",\n      \"properties\": {\n        \"dtype\": \"string\",\n        \"num_unique_values\": 24981,\n        \"samples\": [\n          \"Ingredientes 1 disco de masa para tarta 3/4 taza de agua 2 yemas Ralladura de 1 1 cda de jugo de lim\\u00f3n 150 gr. de az\\u00facar 20 gr. de almid\\u00f3n de ma\\u00edz 20 gr. de manteca Para el merengue: 120 gr. de az\\u00facar 2 claras 1 disco de masa para tarta3/4 taza de agua2 yemasRalladura de 1 lim\\u00f3n 1 cda de jugo de lim\\u00f3n150 gr. de az\\u00facar20 gr. de almid\\u00f3n de ma\\u00edz20 gr. de manteca120 gr. de az\\u00facar2 claras \",\n          \"1 cda. de aceite vegetal1 cdta. de achiote1 tallo de cebolla larga picado1 diente de ajo machacado1 tomate chonto mediano, pelado, picado y sin semillas1 taza de lecheSal, pimienta comino molido6 papas peladas y cortadas en 8 porciones \",\n          \"250 gramos de harina de trigo tamizada 20 gramos de mantequilla 3 gramos de levadura seca de panadero 1 huevo 125 ml de leche tibia 15 gramos de az\\u00facar 1/2 cucharadita de sal 10 salchichas Frankfurt 1 huevo para pintar 1 pu\\u00f1ado de semillas 1 trozo de mantequilla para pintar una vez horneados\"\n        ],\n        \"semantic_type\": \"\",\n        \"description\": \"\"\n      }\n    },\n    {\n      \"column\": \"steps\",\n      \"properties\": {\n        \"dtype\": \"string\",\n        \"num_unique_values\": 24996,\n        \"samples\": [\n          \"1 Para elaborar estos incre\\u00edbles perritos calientes debes alistar todos los ingredientes, puedes utilizar salchichas tipo frankfurt o cualquier de tu preferencia, vigila que sean del tama\\u00f1o del pan. 2 Picar la cebolla en cuadros peque\\u00f1os y agregarle agua muy caliente. Esto ayudar\\u00e1 a que la cebolla no est\\u00e9 tan picante. 3 Lavar y picar el tomate en cuadros del mismo tama\\u00f1o que la cebolla. Luego, escurrir la cebolla y mezclar con el tomate, agregar sal y pimienta al gusto. 4 En una sart\\u00e9n con un poco de agua colocamos las salchichas y las cocinamos durante 5 minutos a fuego medio. 5 Colocar las salchichas en el pan y cubrir con el picadillo de cebolla y tomate. 6 Cubrir con las papas tipo cerilla y agregar las salsas al gusto. Esto dar\\u00e1 un toque delicioso a tus hot dogs. Si no encuentras este tipo de patatas, no te preocupes, puedes usar cualquier tipo de patata frita de bolsa, lo \\u00fanico que tienes que hacer es triturarlas bien. 7 Si te gust\\u00f3 la receta de los perritos calientes o tienes alguna duda no dudes en dejar tus comentarios.\",\n          \"1 Cocina los frijoles en abundante agua hasta que est\\u00e9n blandos. Cuando est\\u00e9n listos, retira todo el caldo que puedas y res\\u00e9rvalo para m\\u00e1s adelante; debes dejar el caldo suficiente para moler los frijoles sin que queden aguados. 2 Tritura los frijoles con un batidor de mano o un mortero en su defecto una vez que est\\u00e9n templados o fr\\u00edos. Si retiraste demasiado caldo, siempre puedes ir a\\u00f1adiendo poco a poco. El resultado debe ser unos frijoles molidos ni demasiado l\\u00edquidos ni muy espesos. 3 Coloca la manteca en una olla de barro suficientemente grande y mu\\u00e9vela con una cuchara para lograr que se funda m\\u00e1s r\\u00e1pido. 4 Cuando la manteca est\\u00e9 muy caliente, adiciona el chorizo y desmen\\u00fazalo en la olla con la misma cuchara. Deja que se cocine durante 4 minutos, moviendo para evitar que se queme ni pegue y los frijoles puercos estilo Sinaloa con sardina queden perfectos. 5 Pasado el tiempo, a\\u00f1ade el jam\\u00f3n, el pur\\u00e9 de tomate y la sardina, desmenuza y sigue cocinando unos 6 minutos m\\u00e1s. Luego, puedes triturar toda la preparaci\\u00f3n o dejarla as\\u00ed, como prefieras. Truco: Si decidiste triturar, a\\u00f1ade un poco de frijol para batir mejor. 6 Agrega los frijoles e int\\u00e9gralos con la preparaci\\u00f3n para que se mezcle todo bien. 7 Cuando los frijoles puercos con sardina empiecen a hervir, a\\u00f1ade el queso rallado y sigue moviendo para lograr que se funda r\\u00e1pidamente. 8 Por \\u00faltimo, incorpora los chiles y las aceitunas, y sigue moviendo. Es muy importante no dejar de dar vueltas a la preparaci\\u00f3n para evitar que se pegue o queme. Deja cocinar unos 3 minutos m\\u00e1s. 9 \\u00a1Listo! Ya puedes servir y degustar estos deliciosos frijoles puercos estilo Sinaloa con sardinas. Y si lo deseas, puedes dejar que se enfr\\u00eden y disfrutarlos al d\\u00eda siguiente recalentados, \\u00a1ya que quedan a\\u00fan m\\u00e1s deliciosos! Se pueden servir con tortillas de ma\\u00edz y arroz blanco. \\u00a1Buen provecho!\",\n          \"1 El primer paso para realizar la receta de lomo strogonoff es prealistar los ingredientes. Si lo prefieres, en lugar de vino puedes utilizar vodka. 2 Lo primero que vamos a realizar es la salsa de champi\\u00f1ones. Para hacerla, llevamos una olla a fuego medio y adicionamos un poco de aceite, agregamos la cebolla blanca en cuadros y dejamos saltear. 3 Una vez que la cebolla tome un color transparente, agrega los champi\\u00f1ones, sal, pimienta negra y pasta de ajo al gusto. 4 Para que los champi\\u00f1ones se doren, adiciona la mantequilla y deja sofre\\u00edr. 5 Cuando est\\u00e9n dorados los champi\\u00f1ones, agrega la harina de trigo y forma una pasta con la mantequilla, la cebolla y champi\\u00f1ones, esto es lo que le va a a dar espesor a nuestra salsa base strogonoff. 6 Adiciona el fondo o caldo de carne y deja que este se cocine. 7 Agrega el vino tinto, la paprika y la mostaza y mezcla muy bien con la salsa para el lomo. 8 Una vez que la salsa haya espesado, baja el fuego lo m\\u00e1s lento que puedas y a\\u00f1ade la crema de leche y el perejil fresco; mezcla muy bien los ingredientes de nuestra receta y deja conservar. 9 Vamos a cocinar los medallones de lomo. La receta original dice que debes servir y saltear el lomo en cuadros medianos, pero yo quise realizarlo un poco m\\u00e1s personalizado y dar por comensal dos medallones. De manera que, este paso es al gusto del cocinero, cualquiera de las dos formas es totalmente v\\u00e1lida. Lleva una sart\\u00e9n a fuego medio, adiciona un poco de aceite y, una vez caliente, agrega los medallones de lomo con sal y pimienta al gusto. 10 Dale vuelta a los medallones, recuerda que puedes consumirlos en el t\\u00e9rmino de cocci\\u00f3n que desees. En este sentido, debes saber que a menos vueltas m\\u00e1s jugosa quedar\\u00e1 la carne por dentro. Ten presente que con cada vuelta la carne se va deshidratando y, por tanto, perdiendo sus jugos. Es importante que tengas en cuenta estos peque\\u00f1os tips de cocina que te damos a la hora de cocinar para obtener una carne m\\u00e1s jugosa. 11 Rectificamos de sabor la salsa, si deseas puedes a\\u00f1adir m\\u00e1s sal, pimienta o cualquier otro ingrediente que desees y consideres le hace falta. Una buena salsa se nota por su brillo y espesor, siempre debes probar y rectificar para obtener el resultado deseado. 12 Sirve cada uno de los medallones salteados en el t\\u00e9rmino de cocci\\u00f3n que deseas. 13 Ba\\u00f1a los medallones de lomo en la salsa strogonoff y espolvorea con un poco de perejil fresco encima. Es ideal que acompa\\u00f1es el lomo strogonoff con arroz blanco. Si deseas m\\u00e1s recetas de carne y tienes alg\\u00fan comentario o inquietud, escr\\u00edbenos. \\u00a1Disfruta!\"\n        ],\n        \"semantic_type\": \"\",\n        \"description\": \"\"\n      }\n    },\n    {\n      \"column\": \"uuid\",\n      \"properties\": {\n        \"dtype\": \"string\",\n        \"num_unique_values\": 26952,\n        \"samples\": [\n          \"3692e61c-94ee-4398-82cc-a5f522a875f3\",\n          \"d2982bb3-78db-4b39-a35a-b0bb3d36f65d\",\n          \"8523a9a8-4a33-4204-af71-bdef3ad87848\"\n        ],\n        \"semantic_type\": \"\",\n        \"description\": \"\"\n      }\n    }\n  ]\n}"
            }
          },
          "metadata": {},
          "execution_count": 17
        }
      ]
    },
    {
      "cell_type": "code",
      "source": [
        "df_recetas = pd.DataFrame({\n",
        "    'user': 'Receta para: ' + df['title'],\n",
        "    'assistant': 'Ingredientes: ' + df['ingredients'] + '. Instrucciones: ' + df['steps']\n",
        "})"
      ],
      "metadata": {
        "id": "eFOlmKTRhx-8"
      },
      "execution_count": null,
      "outputs": []
    },
    {
      "cell_type": "code",
      "source": [
        "df_recetas.head(3)"
      ],
      "metadata": {
        "colab": {
          "base_uri": "https://localhost:8080/",
          "height": 143
        },
        "id": "AsE-eWtjjVYX",
        "outputId": "57923726-3bd8-41f8-ba93-dfb0fc7db501"
      },
      "execution_count": null,
      "outputs": [
        {
          "output_type": "execute_result",
          "data": {
            "text/plain": [
              "                              user  \\\n",
              "0     Receta para: Arepas de Queso   \n",
              "1     Receta para: Sudado de Pollo   \n",
              "2  Receta para: Sancocho Trifásico   \n",
              "\n",
              "                                           assistant  \n",
              "0  Ingredientes: 1 taza de harina de arepa blanca...  \n",
              "1  Ingredientes: 8 muslos de pollo sin la piel .1...  \n",
              "2  Ingredientes: 1 taza de cebolla picada .1 pimi...  "
            ],
            "text/html": [
              "\n",
              "  <div id=\"df-f7b20567-d012-434b-b31b-bcdf39ce4c9c\" class=\"colab-df-container\">\n",
              "    <div>\n",
              "<style scoped>\n",
              "    .dataframe tbody tr th:only-of-type {\n",
              "        vertical-align: middle;\n",
              "    }\n",
              "\n",
              "    .dataframe tbody tr th {\n",
              "        vertical-align: top;\n",
              "    }\n",
              "\n",
              "    .dataframe thead th {\n",
              "        text-align: right;\n",
              "    }\n",
              "</style>\n",
              "<table border=\"1\" class=\"dataframe\">\n",
              "  <thead>\n",
              "    <tr style=\"text-align: right;\">\n",
              "      <th></th>\n",
              "      <th>user</th>\n",
              "      <th>assistant</th>\n",
              "    </tr>\n",
              "  </thead>\n",
              "  <tbody>\n",
              "    <tr>\n",
              "      <th>0</th>\n",
              "      <td>Receta para: Arepas de Queso</td>\n",
              "      <td>Ingredientes: 1 taza de harina de arepa blanca...</td>\n",
              "    </tr>\n",
              "    <tr>\n",
              "      <th>1</th>\n",
              "      <td>Receta para: Sudado de Pollo</td>\n",
              "      <td>Ingredientes: 8 muslos de pollo sin la piel .1...</td>\n",
              "    </tr>\n",
              "    <tr>\n",
              "      <th>2</th>\n",
              "      <td>Receta para: Sancocho Trifásico</td>\n",
              "      <td>Ingredientes: 1 taza de cebolla picada .1 pimi...</td>\n",
              "    </tr>\n",
              "  </tbody>\n",
              "</table>\n",
              "</div>\n",
              "    <div class=\"colab-df-buttons\">\n",
              "\n",
              "  <div class=\"colab-df-container\">\n",
              "    <button class=\"colab-df-convert\" onclick=\"convertToInteractive('df-f7b20567-d012-434b-b31b-bcdf39ce4c9c')\"\n",
              "            title=\"Convert this dataframe to an interactive table.\"\n",
              "            style=\"display:none;\">\n",
              "\n",
              "  <svg xmlns=\"http://www.w3.org/2000/svg\" height=\"24px\" viewBox=\"0 -960 960 960\">\n",
              "    <path d=\"M120-120v-720h720v720H120Zm60-500h600v-160H180v160Zm220 220h160v-160H400v160Zm0 220h160v-160H400v160ZM180-400h160v-160H180v160Zm440 0h160v-160H620v160ZM180-180h160v-160H180v160Zm440 0h160v-160H620v160Z\"/>\n",
              "  </svg>\n",
              "    </button>\n",
              "\n",
              "  <style>\n",
              "    .colab-df-container {\n",
              "      display:flex;\n",
              "      gap: 12px;\n",
              "    }\n",
              "\n",
              "    .colab-df-convert {\n",
              "      background-color: #E8F0FE;\n",
              "      border: none;\n",
              "      border-radius: 50%;\n",
              "      cursor: pointer;\n",
              "      display: none;\n",
              "      fill: #1967D2;\n",
              "      height: 32px;\n",
              "      padding: 0 0 0 0;\n",
              "      width: 32px;\n",
              "    }\n",
              "\n",
              "    .colab-df-convert:hover {\n",
              "      background-color: #E2EBFA;\n",
              "      box-shadow: 0px 1px 2px rgba(60, 64, 67, 0.3), 0px 1px 3px 1px rgba(60, 64, 67, 0.15);\n",
              "      fill: #174EA6;\n",
              "    }\n",
              "\n",
              "    .colab-df-buttons div {\n",
              "      margin-bottom: 4px;\n",
              "    }\n",
              "\n",
              "    [theme=dark] .colab-df-convert {\n",
              "      background-color: #3B4455;\n",
              "      fill: #D2E3FC;\n",
              "    }\n",
              "\n",
              "    [theme=dark] .colab-df-convert:hover {\n",
              "      background-color: #434B5C;\n",
              "      box-shadow: 0px 1px 3px 1px rgba(0, 0, 0, 0.15);\n",
              "      filter: drop-shadow(0px 1px 2px rgba(0, 0, 0, 0.3));\n",
              "      fill: #FFFFFF;\n",
              "    }\n",
              "  </style>\n",
              "\n",
              "    <script>\n",
              "      const buttonEl =\n",
              "        document.querySelector('#df-f7b20567-d012-434b-b31b-bcdf39ce4c9c button.colab-df-convert');\n",
              "      buttonEl.style.display =\n",
              "        google.colab.kernel.accessAllowed ? 'block' : 'none';\n",
              "\n",
              "      async function convertToInteractive(key) {\n",
              "        const element = document.querySelector('#df-f7b20567-d012-434b-b31b-bcdf39ce4c9c');\n",
              "        const dataTable =\n",
              "          await google.colab.kernel.invokeFunction('convertToInteractive',\n",
              "                                                    [key], {});\n",
              "        if (!dataTable) return;\n",
              "\n",
              "        const docLinkHtml = 'Like what you see? Visit the ' +\n",
              "          '<a target=\"_blank\" href=https://colab.research.google.com/notebooks/data_table.ipynb>data table notebook</a>'\n",
              "          + ' to learn more about interactive tables.';\n",
              "        element.innerHTML = '';\n",
              "        dataTable['output_type'] = 'display_data';\n",
              "        await google.colab.output.renderOutput(dataTable, element);\n",
              "        const docLink = document.createElement('div');\n",
              "        docLink.innerHTML = docLinkHtml;\n",
              "        element.appendChild(docLink);\n",
              "      }\n",
              "    </script>\n",
              "  </div>\n",
              "\n",
              "\n",
              "<div id=\"df-f8ea1636-1d7b-419f-a4bb-78671bdb97a7\">\n",
              "  <button class=\"colab-df-quickchart\" onclick=\"quickchart('df-f8ea1636-1d7b-419f-a4bb-78671bdb97a7')\"\n",
              "            title=\"Suggest charts\"\n",
              "            style=\"display:none;\">\n",
              "\n",
              "<svg xmlns=\"http://www.w3.org/2000/svg\" height=\"24px\"viewBox=\"0 0 24 24\"\n",
              "     width=\"24px\">\n",
              "    <g>\n",
              "        <path d=\"M19 3H5c-1.1 0-2 .9-2 2v14c0 1.1.9 2 2 2h14c1.1 0 2-.9 2-2V5c0-1.1-.9-2-2-2zM9 17H7v-7h2v7zm4 0h-2V7h2v10zm4 0h-2v-4h2v4z\"/>\n",
              "    </g>\n",
              "</svg>\n",
              "  </button>\n",
              "\n",
              "<style>\n",
              "  .colab-df-quickchart {\n",
              "      --bg-color: #E8F0FE;\n",
              "      --fill-color: #1967D2;\n",
              "      --hover-bg-color: #E2EBFA;\n",
              "      --hover-fill-color: #174EA6;\n",
              "      --disabled-fill-color: #AAA;\n",
              "      --disabled-bg-color: #DDD;\n",
              "  }\n",
              "\n",
              "  [theme=dark] .colab-df-quickchart {\n",
              "      --bg-color: #3B4455;\n",
              "      --fill-color: #D2E3FC;\n",
              "      --hover-bg-color: #434B5C;\n",
              "      --hover-fill-color: #FFFFFF;\n",
              "      --disabled-bg-color: #3B4455;\n",
              "      --disabled-fill-color: #666;\n",
              "  }\n",
              "\n",
              "  .colab-df-quickchart {\n",
              "    background-color: var(--bg-color);\n",
              "    border: none;\n",
              "    border-radius: 50%;\n",
              "    cursor: pointer;\n",
              "    display: none;\n",
              "    fill: var(--fill-color);\n",
              "    height: 32px;\n",
              "    padding: 0;\n",
              "    width: 32px;\n",
              "  }\n",
              "\n",
              "  .colab-df-quickchart:hover {\n",
              "    background-color: var(--hover-bg-color);\n",
              "    box-shadow: 0 1px 2px rgba(60, 64, 67, 0.3), 0 1px 3px 1px rgba(60, 64, 67, 0.15);\n",
              "    fill: var(--button-hover-fill-color);\n",
              "  }\n",
              "\n",
              "  .colab-df-quickchart-complete:disabled,\n",
              "  .colab-df-quickchart-complete:disabled:hover {\n",
              "    background-color: var(--disabled-bg-color);\n",
              "    fill: var(--disabled-fill-color);\n",
              "    box-shadow: none;\n",
              "  }\n",
              "\n",
              "  .colab-df-spinner {\n",
              "    border: 2px solid var(--fill-color);\n",
              "    border-color: transparent;\n",
              "    border-bottom-color: var(--fill-color);\n",
              "    animation:\n",
              "      spin 1s steps(1) infinite;\n",
              "  }\n",
              "\n",
              "  @keyframes spin {\n",
              "    0% {\n",
              "      border-color: transparent;\n",
              "      border-bottom-color: var(--fill-color);\n",
              "      border-left-color: var(--fill-color);\n",
              "    }\n",
              "    20% {\n",
              "      border-color: transparent;\n",
              "      border-left-color: var(--fill-color);\n",
              "      border-top-color: var(--fill-color);\n",
              "    }\n",
              "    30% {\n",
              "      border-color: transparent;\n",
              "      border-left-color: var(--fill-color);\n",
              "      border-top-color: var(--fill-color);\n",
              "      border-right-color: var(--fill-color);\n",
              "    }\n",
              "    40% {\n",
              "      border-color: transparent;\n",
              "      border-right-color: var(--fill-color);\n",
              "      border-top-color: var(--fill-color);\n",
              "    }\n",
              "    60% {\n",
              "      border-color: transparent;\n",
              "      border-right-color: var(--fill-color);\n",
              "    }\n",
              "    80% {\n",
              "      border-color: transparent;\n",
              "      border-right-color: var(--fill-color);\n",
              "      border-bottom-color: var(--fill-color);\n",
              "    }\n",
              "    90% {\n",
              "      border-color: transparent;\n",
              "      border-bottom-color: var(--fill-color);\n",
              "    }\n",
              "  }\n",
              "</style>\n",
              "\n",
              "  <script>\n",
              "    async function quickchart(key) {\n",
              "      const quickchartButtonEl =\n",
              "        document.querySelector('#' + key + ' button');\n",
              "      quickchartButtonEl.disabled = true;  // To prevent multiple clicks.\n",
              "      quickchartButtonEl.classList.add('colab-df-spinner');\n",
              "      try {\n",
              "        const charts = await google.colab.kernel.invokeFunction(\n",
              "            'suggestCharts', [key], {});\n",
              "      } catch (error) {\n",
              "        console.error('Error during call to suggestCharts:', error);\n",
              "      }\n",
              "      quickchartButtonEl.classList.remove('colab-df-spinner');\n",
              "      quickchartButtonEl.classList.add('colab-df-quickchart-complete');\n",
              "    }\n",
              "    (() => {\n",
              "      let quickchartButtonEl =\n",
              "        document.querySelector('#df-f8ea1636-1d7b-419f-a4bb-78671bdb97a7 button');\n",
              "      quickchartButtonEl.style.display =\n",
              "        google.colab.kernel.accessAllowed ? 'block' : 'none';\n",
              "    })();\n",
              "  </script>\n",
              "</div>\n",
              "\n",
              "    </div>\n",
              "  </div>\n"
            ],
            "application/vnd.google.colaboratory.intrinsic+json": {
              "type": "dataframe",
              "variable_name": "df_recetas",
              "summary": "{\n  \"name\": \"df_recetas\",\n  \"rows\": 28238,\n  \"fields\": [\n    {\n      \"column\": \"user\",\n      \"properties\": {\n        \"dtype\": \"string\",\n        \"num_unique_values\": 18921,\n        \"samples\": [\n          \"Receta para: Tofu de garbanzos casero\",\n          \"Receta para: Bolitas de carne picada con queso\",\n          \"Receta para: Receta F\\u00c1CIL Con Patatas y Verduras\"\n        ],\n        \"semantic_type\": \"\",\n        \"description\": \"\"\n      }\n    },\n    {\n      \"column\": \"assistant\",\n      \"properties\": {\n        \"dtype\": \"string\",\n        \"num_unique_values\": 25005,\n        \"samples\": [\n          \"Ingredientes: 1 bote de Leche condensada 1 bote de Leche entera 4 Huevos 60 gramos de Coco rallado. Instrucciones: 1 Caramelizar un molde que quepa en el varoma, para ello coloca un poco de az\\u00facar en el molde con un una cucharada de agua y calienta hasta que se derrita y funda el az\\u00facar. Reparte el caramelo l\\u00edquido por todos los bordes y la superficie del molde. 2 Ahora, poner todos los ingredientes en el vaso de la Thermomix y mezclar 15 segundos a velocidad 3. Vaciar esta mezcla en el molde y meterlo en el varoma cubierto con papel de aluminio y papel de cocina.Poner el agua en el vaso y programar 5 minutos a temperatura varoma velocidad 2. Truco: El bote de leche debe ser de la misma cantidad del de la leche condensada. 3 Cuando la m\\u00e1quina pare, colocar de nuevo el varoma y programar 30 minutos a temperatura varoma con velocidad 2. A\\u00f1adirle unos minutos m\\u00e1s si lo vemos blando.Si prefieres, tambi\\u00e9n lo podemos hacer en el horno a ba\\u00f1o mar\\u00eda a temperatura 180\\u00ba poniendo un recipiente con agua debajo de la flanera. 4 Dejarlo unos 30-45 min. si no tienes varoma o para quienes les guste m\\u00e1s la consistencia del horno.A mi particularmente me gusta m\\u00e1s como queda en el horno, queda m\\u00e1s compacto que en el varoma, pero eso depende de vuestros gustos, si os gusta el flan mas blandito, en el varoma queda muy bien. 5 Disfruta del flan de leche condensada y coco con Thermomix y decora al servir con un poco de coco rallado por encima. Si te gustan los postres con Thermomix, te recomiendo probar la receta del quesillo tradicional o el de la panacotta con Thermomix, \\u00a1buen\\u00edsimos!\",\n          \"Ingredientes: 12 gramos de Galletas de vainilla 100 mililitros de Leche 40 gramos de Queso mascarpone 3 cucharadas soperas de Az\\u00facar 4 cucharadas soperas de Coco rallado 20 mililitros de Jarabe de coco 1 cucharada sopera de Gelatina sin sabor. Instrucciones: 1 Para empezar a preparar el cheesecake de coco fr\\u00edo, lo primero que hay que hacer es machacar las galletas y mezclar con la leche hasta que \\u00e9stas hayan absorbido la totalidad de la leche, pero sin que queden grumos demasiado grandes. 2 A continuaci\\u00f3n, distribuye la mezcla anterior en los moldes hasta que la misma se enfr\\u00ede el refrigerador. 3 Mientras tanto, comience a preparar el relleno del cheesecake de coco. Para ello, bate ligeramente el queso crema y luego agrega a la fuente el jarabe de coco en su totalidad junto con el az\\u00facar glaseado. Nuevamente, revolver hasta que la mezcla quede homog\\u00e9nea. 4 Agregar la crema batida (opcional) y el coco rallado a la mezcla. 5 Luego vaciar la mezcla, cuando est\\u00e9 uniforme, sobre la base de galletas con una cuchara lisa, para evitar que se desparrame la crema que ha quedado formada. 6 Por \\u00faltimo, refrigerar el cheesecake de coco fr\\u00edo y dejar que repose en la heladera por un espacio cercano a las dos horas. 7 Una vez que est\\u00e1 listo, retirarlo de la heladera y decorarlo encima con el coco rallado dorado y disfruta de esta deliciosa tarta de queso de coco. Y si te gustan los postres sin horno puedes echarle un vistazo a estas otras recetas:Cheescake sin hornoBrownie sin hornoMarquesa de lim\\u00f3n\",\n          \"Ingredientes: 1 kg masa de sopes 1/4 queso 1/4 chorizo 1/2 lechuga 1/4 cebolla picada 1/2 taza de frijoles molidos. Instrucciones: 1 Hacer una peque\\u00f1a tira de masa de sopes mexicanos como la de la fotograf\\u00eda. 2 Aplanarla en la tortillera... Quedara as\\u00ed... 3 Ponerla a cocer en el comal. 4 Ya que has hecho varias tortillas ovaladas retirarlas del fuego. 5 Comenzamos a guisar el chorizo con un poco d aceite. 6 Hacemos una salsa de jitomate con chile verde. 7 Embarramos los sopes mexicanos con frijoles y espolvoreamos el chorizo. 8 Agregamos encima lechuga, con el queso y la cebolla al gusto. 9 Ba\\u00f1amos los sopes mexicanos de chorizo al gusto con la salsita que preparamos de jitomate... Y listo....\"\n        ],\n        \"semantic_type\": \"\",\n        \"description\": \"\"\n      }\n    }\n  ]\n}"
            }
          },
          "metadata": {},
          "execution_count": 19
        }
      ]
    },
    {
      "cell_type": "markdown",
      "source": [
        "#### 2.3) Creación de JSONL 🔍"
      ],
      "metadata": {
        "id": "Ull0vjyr9Ihl"
      }
    },
    {
      "cell_type": "markdown",
      "source": [
        "[OpenAI API](https://platform.openai.com/docs/api-reference/files/create) utiliza para la carga de archivos el formato JSONL.\n",
        "\n",
        "**JSONL** es una colección de objetos JSON donde cada línea representa un registro independiente.\n",
        "\n",
        "Esto hace que sea fácil estructurar datos complejos con jerarquías y metadatos asociados, ideal para entradas y salidas de modelos."
      ],
      "metadata": {
        "id": "kWho7lndj5pS"
      }
    },
    {
      "cell_type": "markdown",
      "source": [
        "**Importante:** Hay un límite del tamalo de archivo que podemos cargar a OpenAI, según la [documentación actual](https://platform.openai.com/docs/guides/fine-tuning#size-limits-and-large-uploads) es de 512 MB."
      ],
      "metadata": {
        "id": "kqS7s9WRx8V-"
      }
    },
    {
      "cell_type": "code",
      "source": [
        "jsonl_path = 'recetas_latinoamericanas.jsonl'"
      ],
      "metadata": {
        "id": "2DDjW3hRmvAS"
      },
      "execution_count": null,
      "outputs": []
    },
    {
      "cell_type": "code",
      "source": [
        "with open(jsonl_path, 'w', encoding='utf-8') as file:\n",
        "   # Itera solo sobre las primeras 15 filas del dataframe\n",
        "    for _, row in df_recetas.head(15).iterrows():\n",
        "        message = {\n",
        "            \"messages\": [\n",
        "                {\"role\": \"system\", \"content\": \"Eres un experto culinario especializado en recetas latinoamericanas.\"},\n",
        "                {\"role\": \"user\", \"content\": row[\"user\"]},\n",
        "                {\"role\": \"assistant\", \"content\": row[\"assistant\"]}\n",
        "            ]\n",
        "        }\n",
        "        json.dump(message, file, ensure_ascii=False)\n",
        "        file.write('\\n')  # Escribe un salto de línea para cumplir con el formato JSONL\n",
        "\n",
        "print(f\"Archivo {jsonl_path} creado correctamente.\")"
      ],
      "metadata": {
        "colab": {
          "base_uri": "https://localhost:8080/"
        },
        "id": "nafeaIpukX2R",
        "outputId": "3913d7cb-5d5c-4ec8-f5a7-27701d87c9ab"
      },
      "execution_count": null,
      "outputs": [
        {
          "output_type": "stream",
          "name": "stdout",
          "text": [
            "Archivo recetas_latinoamericanas.jsonl creado correctamente.\n"
          ]
        }
      ]
    },
    {
      "cell_type": "markdown",
      "source": [
        "El archivo recetas_latinoamericanas.jsonl pesa aproximadamente 20 KB."
      ],
      "metadata": {
        "id": "ir2mU7Yl3Qpp"
      }
    },
    {
      "cell_type": "markdown",
      "source": [
        "### 3) Carga del archivo JSONL a OpenAI 💪"
      ],
      "metadata": {
        "id": "z5CReMaiYSDt"
      }
    },
    {
      "cell_type": "code",
      "source": [
        "# Load the environment variables\n",
        "load_dotenv()\n",
        "\n",
        "os.environ[\"OPENAI_API_KEY\"] = os.getenv(\"OPENAI_API_KEY\")"
      ],
      "metadata": {
        "id": "vxX1L_CZle1p"
      },
      "execution_count": null,
      "outputs": []
    },
    {
      "cell_type": "code",
      "source": [
        "client = OpenAI()\n",
        "\n",
        "response_loading = client.files.create(\n",
        "  file=open(jsonl_path, \"rb\"),\n",
        "  purpose=\"fine-tune\"\n",
        ")"
      ],
      "metadata": {
        "id": "GyM4O4ERml-c"
      },
      "execution_count": null,
      "outputs": []
    },
    {
      "cell_type": "markdown",
      "source": [
        "Pueden ver más información en el [Dashboard de OpenAI](https://platform.openai.com/finetune/)."
      ],
      "metadata": {
        "id": "B1eveKzG2-Xm"
      }
    },
    {
      "cell_type": "code",
      "source": [
        "print(response_loading)"
      ],
      "metadata": {
        "colab": {
          "base_uri": "https://localhost:8080/"
        },
        "id": "_aOq4-f6nkmK",
        "outputId": "1ea1d0fa-ff5b-47f5-aa2f-3641580ee5a6"
      },
      "execution_count": null,
      "outputs": [
        {
          "output_type": "stream",
          "name": "stdout",
          "text": [
            "FileObject(id='file-Udu3ucguHnoRUHjK4jRTpn', bytes=18153, created_at=1736960333, filename='recetas_latinoamericanas.jsonl', object='file', purpose='fine-tune', status='processed', status_details=None)\n"
          ]
        }
      ]
    },
    {
      "cell_type": "code",
      "source": [
        "# Acceder al ID del archivo creado\n",
        "file_loaded_id = response_loading.id\n",
        "\n",
        "print(f\"El ID del archivo creado es: {file_loaded_id}\")"
      ],
      "metadata": {
        "colab": {
          "base_uri": "https://localhost:8080/"
        },
        "id": "cHCDvua3noD7",
        "outputId": "6eb72b23-602f-4cf6-b614-03bd71a9bfdd"
      },
      "execution_count": null,
      "outputs": [
        {
          "output_type": "stream",
          "name": "stdout",
          "text": [
            "El ID del archivo creado es: file-Udu3ucguHnoRUHjK4jRTpn\n"
          ]
        }
      ]
    },
    {
      "cell_type": "markdown",
      "source": [
        "### 4) Finetuning 😨"
      ],
      "metadata": {
        "id": "NdRZS4ZactJU"
      }
    },
    {
      "cell_type": "markdown",
      "source": [
        "Dentro de la [documentación oficial](https://platform.openai.com/docs/guides/fine-tuning#which-models-can-be-fine-tuned) se muestra a qué modelos podemos aplicarle finetuning."
      ],
      "metadata": {
        "id": "OfqVRCgnokD_"
      }
    },
    {
      "cell_type": "code",
      "source": [
        "modelo_openai = \"gpt-4o-mini-2024-07-18\""
      ],
      "metadata": {
        "id": "SCXVt-hhob0E"
      },
      "execution_count": null,
      "outputs": []
    },
    {
      "cell_type": "code",
      "source": [
        "client = OpenAI()\n",
        "\n",
        "response_finetuning = client.fine_tuning.jobs.create(\n",
        "    training_file=file_loaded_id,\n",
        "    model=modelo_openai,\n",
        ")"
      ],
      "metadata": {
        "id": "UQVKWUrvoXCU"
      },
      "execution_count": null,
      "outputs": []
    },
    {
      "cell_type": "markdown",
      "source": [
        "En caso de quere ver más hiperparámetros que se puedem ajustar, hay una [sección oficial en la documentación de OpenAI](https://platform.openai.com/docs/guides/fine-tuning#which-models-can-be-fine-tuned)."
      ],
      "metadata": {
        "id": "66OEtwJVo4Aa"
      }
    },
    {
      "cell_type": "markdown",
      "source": [
        "Para obtener el id del job:"
      ],
      "metadata": {
        "id": "h7aEvb3at09A"
      }
    },
    {
      "cell_type": "code",
      "source": [
        "job_id = response_finetuning.id\n",
        "print(f\"El job ID del modelo es: {job_id}\")"
      ],
      "metadata": {
        "colab": {
          "base_uri": "https://localhost:8080/"
        },
        "id": "ZaxG7ShyuE00",
        "outputId": "d4f7e8a1-3728-4243-efc4-9f132bb79314"
      },
      "execution_count": null,
      "outputs": [
        {
          "output_type": "stream",
          "name": "stdout",
          "text": [
            "El job ID del modelo es: ftjob-ROO24HnkmVbr9mvcegZAnnt5\n"
          ]
        }
      ]
    },
    {
      "cell_type": "code",
      "source": [
        "job_details = client.fine_tuning.jobs.retrieve(job_id)\n",
        "fine_tuned_model = job_details.fine_tuned_model\n",
        "\n",
        "print(f\"Nombre del modelo afinado: {fine_tuned_model}\")"
      ],
      "metadata": {
        "colab": {
          "base_uri": "https://localhost:8080/"
        },
        "id": "v107YL4itvAM",
        "outputId": "5c18fcc1-3a90-4407-ff4f-50d4e6018988"
      },
      "execution_count": null,
      "outputs": [
        {
          "output_type": "stream",
          "name": "stdout",
          "text": [
            "Nombre del modelo afinado: ft:gpt-4o-mini-2024-07-18:personal::Aq1BTT8A\n"
          ]
        }
      ]
    },
    {
      "cell_type": "markdown",
      "source": [
        "Si todavía no está listo el finetuning les va a devolver None."
      ],
      "metadata": {
        "id": "NT89jf_53967"
      }
    },
    {
      "cell_type": "markdown",
      "source": [
        "### 5) Hacer Predicciones en Producción 🤙"
      ],
      "metadata": {
        "id": "icAp1SniSDuN"
      }
    },
    {
      "cell_type": "markdown",
      "source": [
        "Función de inferencia / predicción"
      ],
      "metadata": {
        "id": "Wp26Xdn80zGd"
      }
    },
    {
      "cell_type": "code",
      "source": [
        "role_assistant_prompt = \"Eres un asistente de cocina\""
      ],
      "metadata": {
        "id": "zUFi-1Wv1DE9"
      },
      "execution_count": null,
      "outputs": []
    },
    {
      "cell_type": "code",
      "source": [
        "client = OpenAI()\n",
        "\n",
        "def ask_model(question):\n",
        "  completion = client.chat.completions.create(\n",
        "\n",
        "    # Cargar nuestro modelo afinado\n",
        "    model=fine_tuned_model,\n",
        "\n",
        "    messages=[\n",
        "        {\"role\": \"system\", \"content\": role_assistant_prompt},\n",
        "        {\"role\": \"user\", \"content\": question}\n",
        "    ]\n",
        ")\n",
        "\n",
        "  # Mostrar objeto completo\n",
        "  print(completion.choices[0].message)\n",
        "  # Mostrar solo contenido de la respuesta\n",
        "  #print(completion.choices[0].message.content)"
      ],
      "metadata": {
        "id": "ZKyHWTmO02Df"
      },
      "execution_count": null,
      "outputs": []
    },
    {
      "cell_type": "markdown",
      "source": [
        "Ejemplos de uso"
      ],
      "metadata": {
        "id": "3gkxguDSSc-P"
      }
    },
    {
      "cell_type": "code",
      "source": [
        "question =  \"Me pasas los ingredientes para hacer unas arepas de queso\"\n",
        "ask_model(question)"
      ],
      "metadata": {
        "colab": {
          "base_uri": "https://localhost:8080/"
        },
        "id": "EYGRCqZE0Oa3",
        "outputId": "9af4db8e-c458-4b35-e6fa-36303457e082"
      },
      "execution_count": null,
      "outputs": [
        {
          "output_type": "stream",
          "name": "stdout",
          "text": [
            "ChatCompletionMessage(content='Claro. Aquí tienes una receta de arepas de queso. Ingredientes: 2 tazas de harina de maíz blanco o amarillo, 2 tazas de agua tibia, 2 cucharadas de mantequilla, derretida, 1 cucharadita de sal, ½ taza de queso mozzarella o queso blanco rallado, .Instrucciones: Mezclar la harina de maíz, el agua caliente, la mantequilla y la sal en un tazón. Revolver con un tenedor y dejar reposar durante unos 5 a 10 minutos. Asegúúrese de sacudir con un tenedor para que la harina de maíz no se apelmace. .Añadir el queso, muelas con las manos y amasar para que se mezcle. .Forma las arepas en bolitas y luego haga una torta gruesa. .Coloque la mantequilla en una sartén antiadherente y caliente a fuego medio. Coloque las arepas en la sartén y cocine durante aproximadamente 3 minutos de cada lado, hasta que estén doradas.', refusal=None, role='assistant', audio=None, function_call=None, tool_calls=None)\n"
          ]
        }
      ]
    },
    {
      "cell_type": "code",
      "source": [
        "question = \"Quiero aprender a hacer Sancocho Trifásico, me pasas los ingredientes y cómo se hacee\"\n",
        "ask_model(question)"
      ],
      "metadata": {
        "colab": {
          "base_uri": "https://localhost:8080/"
        },
        "id": "zeNASm4_1a9r",
        "outputId": "36dbf3c0-3a5e-472d-e998-a7ab8850a531"
      },
      "execution_count": null,
      "outputs": [
        {
          "output_type": "stream",
          "name": "stdout",
          "text": [
            "ChatCompletionMessage(content='Ingredientes 1 cola de res en trozos . . . . . . . . . . . . . . . . . . . . . . . . . . . . . . . . . . . . . . . . .  .1 cucharadita de aceite vegetal . . . . . . . . . . . . . . . . . . . . . . . . . . . . . . . . . . . . . . . . . . . . .1 diente de ajo picado . . . . . . . . . . . . . . . . . . . . . . . . . . . . . . . . . . . . . . . . . . . . . . . . . . . . . . . . . . . . . . . . . . . . . . . . .5 tazas de caldo de carne . . . . . . . . . . . . . . . . . . . . . . . . . . . . . . . . . . . . . . . . . . . . . . . . . . . .5 papas pequeñas peladas y cortadas por la mitad . . . . . . . . . . . . . . . . .2 mazorca de maiz cortadas en rodajas . . . . . . . . . . . . . . . . . . . . . . . . . . . . . . . . . . . . .3 tazas de yuca pelada y cortada en trozos de 2 pulgadas . . . . . . . . . . . . . . . . . . . . . . . . . . . . . . . . . . . . . . . . . . . . . . . . . . . . . . . . . . . . . . . . . . . . . . . . . . . . . . . . . . . . . . . . . . . . . . . . . . . . . . . . . . . . . . . . . . . . . . . . . . . . . . . . . . . . . . . . . . .0.Lentejas Verdes o Grano de Mostaza o Frijoles negros . . . . . . . . . . . . . . . . . . . . . . . . . . . . . . . . . . . . . . . . . . . . . . . . . . . . . . . . . . . .3 tazas de agua . . . . . . . . . . . . . . . . . . . . . . . . . . . . . . . . . . . . . . . . . . . . . . . . . . . . . . . . . . . .1 taza de arroz largo . . . . . . . . . . . . . . . . . . . . . . . . . . . . . . . . . . . . . . . . . . . . . . . . . . . . . . . . . . . . . . . . . . . . . . . . . . . . . . . . . . . . . . . . .3 cucharadas de cilantro fresco picado. Instrucciones: Coloque la cola de res, el caldo de carne, el ajo, 1 cucharadita de aceite vegetal, maíz y las papas en una olla grande y lleve la mezcla a hervir. Baje el fuego a medio-bajo; tape y cocine durante 1 hora y 15 minutos o hasta que la carne esté blanda. Agregue la yuca. Tapar y continuar cocinando por 30 minutos o hasta que la yuca y las papas estén tiernas.3: Añadir la lenteja o frijoles, el agua y el arroz. Tape y cocine a fuego lento durante 25 minutos o hasta que el arroz y la lentejas estén cocidos. Agregue el cilantro picado y servir.', refusal=None, role='assistant', audio=None, function_call=None, tool_calls=None)\n"
          ]
        }
      ]
    },
    {
      "cell_type": "code",
      "source": [
        "question = \"receta para una pizza italiana\"\n",
        "ask_model(question)"
      ],
      "metadata": {
        "id": "6mRV0YL2-xhN",
        "outputId": "4e6e3509-2327-47c4-a53a-cef1b5b86ef0",
        "colab": {
          "base_uri": "https://localhost:8080/"
        }
      },
      "execution_count": null,
      "outputs": [
        {
          "output_type": "stream",
          "name": "stdout",
          "text": [
            "ChatCompletionMessage(content='Ingredientes: ½ libra de harina para hacer la masa .½ taza de agua tibia .1 cucharadita de azúcar .2 cucharadas de aceite de oliva .1 cucharadita de sal .1 cucharadita de levadura activa .½ taza de salsa de tomate .8 onzas de queso mozzarella .Toppings de su elección. Instrucciones: Combine el agua tibia, el azúcar y la levadura en un tazón pequeño, mezcle y deje reposar durante 5 minutos. .En un tazón grande, mezcle la harina, la sal y haga un hueco en el centro. Verter la mezcla de levadura y el aceite de oliva, y mezcle con un tenedor hasta que la masa se forme. .Amasar la masa sobre una superficie enharinada durante unos 7 minutos hasta que esté suave y elástica. Coloque la masa en un tazón engrasado, tape y deje que suba hasta que doble su tamaño, aproximadamente 1 hora. .Divida la masa en 2 porciones iguales, forme cada porción en una bola y dejar que suban unos 15 minutos. .Estire cada barrio con un rodillo hasta obtener una pizza de forma redonda de 12 pulgadas. .Coloque la masa en bandejas para hornear o piedra para pizza. .Para hacer la salsa de tomate: Muela los tomates en una licuadora y coloque en una olla pequeña, añadir el ajo y el aceite de oliva. Cocine a fuego lento durante unos 15 minutos, sazone con sal y pimienta. .Ponga la salsa de tomate en cada pizza con una cuchara, y luego agregar el queso mozzarella y los ingredientes deseados. .Cocinar en un horno precalentado a 425 grados durante unos 20 minutos.', refusal=None, role='assistant', audio=None, function_call=None, tool_calls=None)\n"
          ]
        }
      ]
    },
    {
      "cell_type": "code",
      "source": [
        "question = \"Cuántos muslos de pollo lleva el Sudado de Pollo? Fijate en la lista de ingredientes y decime\"\n",
        "ask_model(question)"
      ],
      "metadata": {
        "id": "xPZQ9WA_1u7w"
      },
      "execution_count": null,
      "outputs": []
    },
    {
      "cell_type": "code",
      "source": [
        "question = \"me pasas la receta del sudado de pollo\"\n",
        "ask_model(question)"
      ],
      "metadata": {
        "id": "Nwt34IRH17wO"
      },
      "execution_count": null,
      "outputs": []
    },
    {
      "cell_type": "code",
      "source": [
        "question = \"receta para sudado de pollo\"\n",
        "ask_model(question)"
      ],
      "metadata": {
        "id": "77E7Gz8e-GmM"
      },
      "execution_count": null,
      "outputs": []
    },
    {
      "cell_type": "markdown",
      "source": [
        "### 6) Conclusiones\n",
        "\n",
        "- Aprender sobre los distintos objetos y métodos que nos ofrece OpenAI API.\n",
        "\n",
        "- Realizar el proceso completo de aplicar finetuning a un modelo de OpenAI.\n",
        "\n",
        "- Aprender manejo de memoria, tipos de datos y procesos de entrenamiento.\n",
        "\n",
        "<br>\n",
        "<br>\n",
        "<br>"
      ],
      "metadata": {
        "id": "Wl7v6oyFkREF"
      }
    },
    {
      "cell_type": "markdown",
      "source": [
        "---\n",
        "\n",
        "<br>\n",
        "<br>\n",
        "\n",
        "\n",
        "<img src=\"https://static.platzi.com/media/avatars/platziteam_8cfe6fc7-1246-4c9a-9f5d-d10d467443ee.png\" width=\"100px\">\n",
        "\n",
        "[Platzi](https://platzi.com/) 🚀\n",
        "\n"
      ],
      "metadata": {
        "id": "0sQ95LlzkUZN"
      }
    }
  ]
}